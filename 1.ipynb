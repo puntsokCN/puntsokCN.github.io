{
 "cells": [
  {
   "cell_type": "markdown",
   "metadata": {},
   "source": [
    "#### zip 函数将名/值列表链在一起"
   ]
  },
  {
   "cell_type": "code",
   "execution_count": 1,
   "metadata": {},
   "outputs": [
    {
     "data": {
      "text/plain": [
       "[('name', 'L.J'),\n",
       " ('age', '35'),\n",
       " ('pay', '35000000$'),\n",
       " ('job', 'basketball player')]"
      ]
     },
     "execution_count": 1,
     "metadata": {},
     "output_type": "execute_result"
    }
   ],
   "source": [
    "keys = [\"name\", \"age\", \"pay\", \"job\"]\n",
    "values = [\"L.J\", \"35\", \"35000000$\", \"basketball player\"] \n",
    "list(zip(keys, values))"
   ]
  },
  {
   "cell_type": "code",
   "execution_count": 2,
   "metadata": {},
   "outputs": [
    {
     "data": {
      "text/plain": [
       "{'name': 'L.J', 'age': '35', 'pay': '35000000$', 'job': 'basketball player'}"
      ]
     },
     "execution_count": 2,
     "metadata": {},
     "output_type": "execute_result"
    }
   ],
   "source": [
    "james = dict(zip(keys, values))\n",
    "james"
   ]
  },
  {
   "cell_type": "markdown",
   "metadata": {},
   "source": [
    "#### 可以通过一个健序列和所有健的可选初始值创建字典(便于初始化空字典)"
   ]
  },
  {
   "cell_type": "code",
   "execution_count": 3,
   "metadata": {},
   "outputs": [
    {
     "data": {
      "text/plain": [
       "{'age': '?', 'name': '?', 'job': '?'}"
      ]
     },
     "execution_count": 3,
     "metadata": {},
     "output_type": "execute_result"
    }
   ],
   "source": [
    "fields = {\"name\", \"age\", \"job\"}\n",
    "record = dict.fromkeys(fields, \"?\")\n",
    "record"
   ]
  },
  {
   "cell_type": "markdown",
   "metadata": {},
   "source": [
    "#### 可以使字典本身表示数据库本身，即外层的字典是数据库，内层嵌套的字典式数据库中的记录"
   ]
  },
  {
   "cell_type": "code",
   "execution_count": 4,
   "metadata": {},
   "outputs": [
    {
     "data": {
      "text/plain": [
       "{'name': 'Bob Smith', 'age': 42, 'pay': 30000, 'job': 'dev'}"
      ]
     },
     "execution_count": 4,
     "metadata": {},
     "output_type": "execute_result"
    }
   ],
   "source": [
    "bob = dict(name=\"Bob Smith\", age=42, pay=30000, job=\"dev\")\n",
    "sue = dict(name=\"Sue Jones\", age=45, pay=40000, job=\"hdw\")\n",
    "bob"
   ]
  },
  {
   "cell_type": "code",
   "execution_count": 5,
   "metadata": {},
   "outputs": [],
   "source": [
    "db = {}                 # 数据库\n",
    "db[\"bob\"] = bob         # 引用字典的字典\n",
    "db[\"sue\"] = sue"
   ]
  },
  {
   "cell_type": "code",
   "execution_count": 6,
   "metadata": {},
   "outputs": [
    {
     "data": {
      "text/plain": [
       "'Bob Smith'"
      ]
     },
     "execution_count": 6,
     "metadata": {},
     "output_type": "execute_result"
    }
   ],
   "source": [
    "db[\"bob\"][\"name\"]"
   ]
  },
  {
   "cell_type": "code",
   "execution_count": 7,
   "metadata": {},
   "outputs": [
    {
     "data": {
      "text/plain": [
       "44000.0"
      ]
     },
     "execution_count": 7,
     "metadata": {},
     "output_type": "execute_result"
    }
   ],
   "source": [
    "db[\"sue\"][\"pay\"] * 1.1  # 涨薪"
   ]
  },
  {
   "cell_type": "code",
   "execution_count": 8,
   "metadata": {},
   "outputs": [
    {
     "name": "stdout",
     "output_type": "stream",
     "text": [
      "{'bob': {'age': 42, 'job': 'dev', 'name': 'Bob Smith', 'pay': 30000},\n",
      " 'sue': {'age': 45, 'job': 'hdw', 'name': 'Sue Jones', 'pay': 40000}}\n"
     ]
    }
   ],
   "source": [
    "# 这样的结构可以直接访问一条记录，而不必循环中寻找到它。\n",
    "import pprint\n",
    "pprint.pprint(db)"
   ]
  },
  {
   "cell_type": "code",
   "execution_count": 9,
   "metadata": {},
   "outputs": [
    {
     "name": "stdout",
     "output_type": "stream",
     "text": [
      "['Bob Smith', 'Sue Jones'] ['Bob Smith', 'Sue Jones']\n"
     ]
    }
   ],
   "source": [
    "# 迭代\n",
    "x = [db[key][\"name\"] for key in db]\n",
    "y = [rec[\"name\"] for rec in db.values()]\n",
    "print(x, y)"
   ]
  },
  {
   "cell_type": "code",
   "execution_count": 10,
   "metadata": {},
   "outputs": [
    {
     "name": "stdout",
     "output_type": "stream",
     "text": [
      "{'bob': {'age': 42, 'job': 'dev', 'name': 'Bob Smith', 'pay': 30000},\n",
      " 'sue': {'age': 45, 'job': 'hdw', 'name': 'Sue Jones', 'pay': 40000},\n",
      " 'tom': {'age': 50, 'job': None, 'name': 'Tom', 'pay': 0}}\n"
     ]
    }
   ],
   "source": [
    "# 增\n",
    "db[\"tom\"] = dict(name=\"Tom\", age=50, job=None, pay=0)\n",
    "pprint.pprint(db)"
   ]
  },
  {
   "cell_type": "code",
   "execution_count": 11,
   "metadata": {},
   "outputs": [
    {
     "data": {
      "text/plain": [
       "['Sue Jones', 'Tom']"
      ]
     },
     "execution_count": 11,
     "metadata": {},
     "output_type": "execute_result"
    }
   ],
   "source": [
    "# 类似 SQL 查询\n",
    "[rec[\"name\"] for rec in db.values() if rec[\"age\"] >= 45] "
   ]
  },
  {
   "cell_type": "markdown",
   "metadata": {},
   "source": [
    "#### 使用pickle将记录保存更新进一个普通文件"
   ]
  },
  {
   "cell_type": "code",
   "execution_count": 12,
   "metadata": {},
   "outputs": [],
   "source": [
    "# 保存\n",
    "import pickle\n",
    "with open(\"people_pickle\", \"wb\") as dbfile:  # 使用 3. \n",
    "    pickle.dump(db, dbfile)                # db 可以单独的以初始化模块文件来组织"
   ]
  },
  {
   "cell_type": "code",
   "execution_count": 13,
   "metadata": {},
   "outputs": [
    {
     "name": "stdout",
     "output_type": "stream",
     "text": [
      "{'bob': {'age': 42, 'job': 'dev', 'name': 'Bob Smith', 'pay': 30000},\n",
      " 'sue': {'age': 45, 'job': 'hdw', 'name': 'Sue Jones', 'pay': 40000},\n",
      " 'tom': {'age': 50, 'job': None, 'name': 'Tom', 'pay': 0}}\n"
     ]
    }
   ],
   "source": [
    "# 读取\n",
    "with open(\"people_pickle\", \"rb\") as dbfile:  # 使用 3. \n",
    "     db_ = pickle.load(dbfile)                \n",
    "     pprint.pprint(db_)"
   ]
  },
  {
   "cell_type": "markdown",
   "metadata": {},
   "source": [
    "#### 当处理非常大的数据时，上述方法会变得很慢，因为更新一条数据就要重新读出和写入整个数据库，我们可以通过存储数据库中的一条记录到一个普通的文件的方式来改进"
   ]
  },
  {
   "cell_type": "code",
   "execution_count": 14,
   "metadata": {},
   "outputs": [],
   "source": [
    "# 1  将每条记录存到对应的文件中\n",
    "for (key, record) in [(\"bob\", bob), (\"sue\", sue)]:\n",
    "    with open(key+\".pkl\", \"wb\") as recfile:\n",
    "        pickle.dump(record, recfile)"
   ]
  },
  {
   "cell_type": "code",
   "execution_count": 15,
   "metadata": {},
   "outputs": [
    {
     "name": "stdout",
     "output_type": "stream",
     "text": [
      "bob.pkl =>\n",
      " {'name': 'Bob Smith', 'age': 42, 'pay': 30000, 'job': 'dev'}\n",
      "sue.pkl =>\n",
      " {'name': 'Sue Jones', 'age': 45, 'pay': 40000, 'job': 'hdw'}\n",
      "sue.pkl['name'] =>\n",
      " Sue Jones\n"
     ]
    }
   ],
   "source": [
    "# 2  使用glob模块获取整个数据库。它根据文件拓展名来获取这个目录下所有该拓展名的文件。如果需要载入单个记录，可以打开对应的文件并使用pickle反序列化。为了得到一条记录，我们只需要载入一个记录而不需要整个数据库\n",
    "import glob\n",
    "\n",
    "# 查看整个数据库\n",
    "for filename in glob.glob(\"*.pkl\"):    \n",
    "    with open(filename, \"rb\") as recfile:\n",
    "        record = pickle.load(recfile)\n",
    "        print(filename, \"=>\\n\",record)\n",
    "\n",
    "#　查看单个记录\n",
    "suefile = open(\"sue.pkl\", \"rb\")\n",
    "print(\"sue.pkl['name']\", \"=>\\n\", pickle.load(suefile)[\"name\"])\n",
    "suefile.close()"
   ]
  },
  {
   "cell_type": "code",
   "execution_count": 16,
   "metadata": {},
   "outputs": [
    {
     "name": "stdout",
     "output_type": "stream",
     "text": [
      "sue.pkl['pay'] =>\n",
      " 44000.0\n"
     ]
    }
   ],
   "source": [
    "# 3  当更新数据库，从对应文件抓取一条记录，在内存中进行修改，然后重新写入它的pickle文件，不用为了更新某段记录而对整个数据库进行操作\n",
    "\n",
    "suefile = open(\"sue.pkl\", \"rb\")\n",
    "sue = pickle.load(suefile)\n",
    "suefile.close()\n",
    "\n",
    "sue[\"pay\"] *= 1.10  # 给sue涨薪10%\n",
    "suefile = open(\"sue.pkl\", \"wb\")\n",
    "pickle.dump(sue, suefile)\n",
    "suefile.close()\n",
    "\n",
    "# 查看该记录是否更新成功\n",
    "suefile = open(\"sue.pkl\", \"rb\")\n",
    "print(\"sue.pkl['pay']\", \"=>\\n\", pickle.load(suefile)[\"pay\"])\n",
    "suefile.close()"
   ]
  },
  {
   "cell_type": "markdown",
   "metadata": {},
   "source": [
    "上述方法数据库的中的key变为了实际的文件名。也就是说文件系统成为了高层字典，通过文件名可以直接访问每条记录"
   ]
  },
  {
   "cell_type": "markdown",
   "metadata": {},
   "source": [
    "#### shelves \n",
    "自动地将对象pickle进和pickle出健访问文件系统。它们很像必须打开着的字典，存储持久化对象的字典 "
   ]
  },
  {
   "cell_type": "code",
   "execution_count": 24,
   "metadata": {},
   "outputs": [],
   "source": [
    "# 创建数据库\n",
    "import shelve\n",
    "db = shelve.open(\"people-shelve\") \n",
    "db[\"bob\"] = bob\n",
    "db[\"sue\"] = sue\n",
    "db.close()"
   ]
  },
  {
   "cell_type": "code",
   "execution_count": 25,
   "metadata": {},
   "outputs": [
    {
     "name": "stdout",
     "output_type": "stream",
     "text": [
      "bob =>\n",
      " {'name': 'Bob Smith', 'age': 42, 'pay': 30000, 'job': 'dev'}\n",
      "sue =>\n",
      " {'name': 'Sue Jones', 'age': 45, 'pay': 44000.0, 'job': 'hdw'}\n"
     ]
    }
   ],
   "source": [
    "# 访问数据库, 依旧是字典的字典\n",
    "db = shelve.open(\"people-shelve\")\n",
    "for key in db:\n",
    "    print(key, \"=>\\n\", db[key])"
   ]
  },
  {
   "cell_type": "code",
   "execution_count": 27,
   "metadata": {},
   "outputs": [],
   "source": [
    "# 更新\n",
    "tom= dict(name=\"Tom\", age=50, job=None, pay=0)\n",
    "\n",
    "db = shelve.open(\"people-shelve\")\n",
    "sue = db[\"sue\"]\n",
    "sue[\"pay\"] *= 1.1\n",
    "# 手动写回是缺省需求，可以在open中定义关闭shelve时写回，但是会消耗内存使得关闭变慢\n",
    "# 缺省是需要时创建，否则以可读可写方式打开 \n",
    "db[\"sue\"] = sue   \n",
    "db[\"tom\"] = tom\n",
    "db.close() # 关闭shelve、关闭缓存\n",
    "\n",
    "# 可以将数据库操作单独制作成脚本文件，通过运行相应程序 自动对本地数据库操作并将变化状态持久化地保存在文件中，"
   ]
  },
  {
   "cell_type": "markdown",
   "metadata": {},
   "source": [
    "#### OOP"
   ]
  },
  {
   "cell_type": "code",
   "execution_count": 29,
   "metadata": {},
   "outputs": [],
   "source": [
    "# 实例化类的方式来实现记录数据库\n",
    "class Person:\n",
    "    def __init__(self, name, age, pay=0, job=None):\n",
    "        self.name = name\n",
    "        self.age = age\n",
    "        self.pay = pay\n",
    "        self.job = job"
   ]
  },
  {
   "cell_type": "code",
   "execution_count": 31,
   "metadata": {},
   "outputs": [
    {
     "data": {
      "text/plain": [
       "'Smith'"
      ]
     },
     "execution_count": 31,
     "metadata": {},
     "output_type": "execute_result"
    }
   ],
   "source": [
    "bob = Person(\"Bob Smith\", 42, 30000, \"software\")\n",
    "sue = Person(\"Sue Jones\", 45, 35000, \"hartware\")\n",
    "bob.name.split()[-1] # 获取姓氏"
   ]
  },
  {
   "cell_type": "code",
   "execution_count": 32,
   "metadata": {},
   "outputs": [
    {
     "data": {
      "text/plain": [
       "38500.0"
      ]
     },
     "execution_count": 32,
     "metadata": {},
     "output_type": "execute_result"
    }
   ],
   "source": [
    "# 涨薪\n",
    "sue.pay *= 1.1\n",
    "sue.pay"
   ]
  },
  {
   "cell_type": "code",
   "execution_count": 33,
   "metadata": {},
   "outputs": [
    {
     "name": "stdout",
     "output_type": "stream",
     "text": [
      "Bob Smith 30000\n",
      "Sue Jones 35000\n"
     ]
    }
   ],
   "source": [
    "# 将类的实例放入列表和字典，构成一个整体\n",
    "bob = Person(\"Bob Smith\", 42, 30000, \"software\")\n",
    "sue = Person(\"Sue Jones\", 45, 35000, \"hartware\")\n",
    "\n",
    "people = [bob, sue]  # 构成一个数据库列表\n",
    "for person in people:\n",
    "    print(person.name, person.pay)"
   ]
  },
  {
   "cell_type": "code",
   "execution_count": 34,
   "metadata": {},
   "outputs": [
    {
     "data": {
      "text/plain": [
       "[('Bob Smith', 42, 30000, 'software'), ('Sue Jones', 45, 35000, 'hartware')]"
      ]
     },
     "execution_count": 34,
     "metadata": {},
     "output_type": "execute_result"
    }
   ],
   "source": [
    "x = [(person.name, person.age, person.pay,  person.job) for person in people]\n",
    "x"
   ]
  },
  {
   "cell_type": "code",
   "execution_count": 36,
   "metadata": {},
   "outputs": [
    {
     "data": {
      "text/plain": [
       "['Sue Jones']"
      ]
     },
     "execution_count": 36,
     "metadata": {},
     "output_type": "execute_result"
    }
   ],
   "source": [
    "# SQL 风格查询\n",
    "[rec.name for rec in people if rec.age >= 45]"
   ]
  },
  {
   "cell_type": "code",
   "execution_count": 37,
   "metadata": {},
   "outputs": [],
   "source": [
    "#  为类添加行为\n",
    "class Person:\n",
    "    def __init__(self, name, age, pay=0, job=None):\n",
    "        self.name = name\n",
    "        self.age = age\n",
    "        self.pay = pay\n",
    "        self.job = job\n",
    "    \n",
    "    def get_LastName(self):\n",
    "        return self.name.split()[-1]\n",
    "\n",
    "    def giveRaise(self, percent=0.1):\n",
    "        self.pay *= (1.0 + percent)"
   ]
  },
  {
   "cell_type": "code",
   "execution_count": 38,
   "metadata": {},
   "outputs": [
    {
     "data": {
      "text/plain": [
       "'Smith'"
      ]
     },
     "execution_count": 38,
     "metadata": {},
     "output_type": "execute_result"
    }
   ],
   "source": [
    "bob = Person(\"Bob Smith\", 42, 30000, \"software\")\n",
    "sue = Person(\"Sue Jones\", 45, 35000, \"hartware\")\n",
    "\n",
    "bob.get_LastName()"
   ]
  },
  {
   "cell_type": "code",
   "execution_count": 39,
   "metadata": {},
   "outputs": [
    {
     "name": "stdout",
     "output_type": "stream",
     "text": [
      "35000\n",
      "38500.0\n"
     ]
    }
   ],
   "source": [
    "print(sue.pay)\n",
    "sue.giveRaise()\n",
    "print(sue.pay)"
   ]
  },
  {
   "cell_type": "code",
   "execution_count": 41,
   "metadata": {},
   "outputs": [],
   "source": [
    "# 继承  通过人员类型编写子类\n",
    "class Manager(Person):\n",
    "    \n",
    "    # 比如管理层除了正常涨薪还有 额外百分比的奖金的话\n",
    "    # 重写该功能\n",
    "    def giveRaise(self, percent=0.1, bonus=0.1) :\n",
    "        self.pay *= (1.0 + percent +bonus)"
   ]
  },
  {
   "cell_type": "code",
   "execution_count": 42,
   "metadata": {},
   "outputs": [
    {
     "data": {
      "text/plain": [
       "'Doe'"
      ]
     },
     "execution_count": 42,
     "metadata": {},
     "output_type": "execute_result"
    }
   ],
   "source": [
    "tom = Manager(name=\"Tom Doe\", age=50, pay=50000)\n",
    "tom.get_LastName() # 父类的功能"
   ]
  },
  {
   "cell_type": "code",
   "execution_count": 54,
   "metadata": {},
   "outputs": [
    {
     "data": {
      "text/plain": [
       "1075296.2364222005"
      ]
     },
     "execution_count": 54,
     "metadata": {},
     "output_type": "execute_result"
    }
   ],
   "source": [
    "tom.giveRaise(bonus=.20) # 自定义的涨薪功能\n",
    "tom.pay"
   ]
  },
  {
   "cell_type": "markdown",
   "metadata": {},
   "source": [
    "#### 重构"
   ]
  },
  {
   "cell_type": "code",
   "execution_count": null,
   "metadata": {},
   "outputs": [],
   "source": [
    "# 增强方法\n",
    "class Manager(Person):\n",
    "    \n",
    "    def giveRaise(self, percent=0.1, bonus=0.1) :\n",
    "        Person.giveRaise(self, percent+bonus)\n",
    "# 1.调用父类的方法显式地传入self参数\n",
    "# 2. 虽然重新定义了该方法，但我们调用的是通用的方法，不但可以降低冗余（业务逻辑只出现一次）\n",
    "# 3.实践中易于启动父类的构造器"
   ]
  },
  {
   "cell_type": "code",
   "execution_count": 80,
   "metadata": {},
   "outputs": [],
   "source": [
    "# 格式化显示\n",
    "class Person:\n",
    "    def __init__(self, name, age, pay=0, job=None):\n",
    "        self.name = name\n",
    "        self.age = age\n",
    "        self.pay = pay\n",
    "        self.job = job\n",
    "    # 操作符重载\n",
    "    def __str__(self):\n",
    "        # 自定义返回值,对当对象需要作为整体打印时，比实例缺省的显示好得多\n",
    "        return \"<%s => %s: %s, %s>\" % (self.__class__.__name__, self.name, self.job, self.pay)\n",
    "\n",
    "    def get_LastName(self):\n",
    "        return self.name.split()[-1]\n",
    "    \n",
    "    # 可以编写 __add__ 使得 + 表达式自动调用 giveraise方法，代价是代码可读性变差，不知到具体你 + 了啥？\n",
    "    def giveRaise(self, percent=0.1):\n",
    "        self.pay *= (1.0 + percent)\n",
    "\n",
    "\n",
    "class Manager(Person):\n",
    "    \n",
    "    def __init__(self, name, age, pay):\n",
    "        Person.__init__(self, name, age, pay=0, job=\"Manager\")\n",
    "\n",
    "    def giveRaise(self, percent=0.1, bonus=0.1) :\n",
    "        Person.giveRaise(self, percent+bonus)"
   ]
  },
  {
   "cell_type": "code",
   "execution_count": 81,
   "metadata": {},
   "outputs": [
    {
     "name": "stdout",
     "output_type": "stream",
     "text": [
      "<Person => Bob Smith: None, 0.0>\n",
      "<Person => Sue Jones: Hardware, 44000.0>\n",
      "<Manager => Tom Doe: Manager, 0.0>\n"
     ]
    }
   ],
   "source": [
    "bob = Person(\"Bob Smith\", 44)\n",
    "sue = Person(\"Sue Jones\", 47, 40000, \"Hardware\")\n",
    "tom = Manager(name=\"Tom Doe\", age=50, pay=50000)\n",
    "for obj in (bob, sue, tom):\n",
    "    obj.giveRaise(.10)\n",
    "    print(obj)"
   ]
  },
  {
   "cell_type": "code",
   "execution_count": 82,
   "metadata": {},
   "outputs": [],
   "source": [
    "# 增加持久化\n",
    "bob = Person(\"Bob Smith\", 44)\n",
    "sue = Person(\"Sue Jones\", 47, 40000, \"Hardware\")\n",
    "tom = Manager(name=\"Tom Doe\", age=50, pay=50000)\n",
    "\n",
    "# 创建了类实例的shelve、然后赋给新建的shelve文件的键\n",
    "db = shelve.open(\"class-shelve\")\n",
    "db[\"bob\"] = bob\n",
    "db[\"sue\"] = sue\n",
    "db[\"tom\"] = tom\n",
    "db.close()"
   ]
  },
  {
   "cell_type": "code",
   "execution_count": 83,
   "metadata": {},
   "outputs": [
    {
     "name": "stdout",
     "output_type": "stream",
     "text": [
      "bob  =>\n",
      "  Bob Smith 0\n",
      "sue  =>\n",
      "  Sue Jones 40000\n",
      "tom  =>\n",
      "  Tom Doe 0\n"
     ]
    }
   ],
   "source": [
    "# 检验数据库\n",
    "db = shelve.open(\"class-shelve\")\n",
    "for key in db:\n",
    "    print(key, \" =>\\n \", db[key].name, db[key].pay)"
   ]
  },
  {
   "cell_type": "code",
   "execution_count": 85,
   "metadata": {},
   "outputs": [
    {
     "name": "stdout",
     "output_type": "stream",
     "text": [
      "Smith\n"
     ]
    }
   ],
   "source": [
    "bob = db[\"bob\"]\n",
    "print(bob.get_LastName())  # 不需要导入类相关类，会自动定位相关类"
   ]
  },
  {
   "cell_type": "code",
   "execution_count": 90,
   "metadata": {},
   "outputs": [],
   "source": [
    "from tkinter import * \n",
    "Label(text=\"Spam\").pack()\n",
    "mainloop()"
   ]
  },
  {
   "cell_type": "code",
   "execution_count": null,
   "metadata": {},
   "outputs": [],
   "source": []
  },
  {
   "cell_type": "code",
   "execution_count": null,
   "metadata": {},
   "outputs": [],
   "source": []
  },
  {
   "cell_type": "code",
   "execution_count": null,
   "metadata": {},
   "outputs": [],
   "source": []
  },
  {
   "cell_type": "code",
   "execution_count": null,
   "metadata": {},
   "outputs": [],
   "source": []
  }
 ],
 "metadata": {
  "file_extension": ".py",
  "kernelspec": {
   "display_name": "Python 3",
   "language": "python",
   "name": "python3"
  },
  "language_info": {
   "codemirror_mode": {
    "name": "ipython",
    "version": 3
   },
   "file_extension": ".py",
   "mimetype": "text/x-python",
   "name": "python",
   "nbconvert_exporter": "python",
   "pygments_lexer": "ipython3",
   "version": "3.7.3"
  },
  "mimetype": "text/x-python",
  "name": "python",
  "npconvert_exporter": "python",
  "pygments_lexer": "ipython3",
  "toc": {
   "base_numbering": 1,
   "nav_menu": {},
   "number_sections": true,
   "sideBar": true,
   "skip_h1_title": false,
   "title_cell": "Table of Contents",
   "title_sidebar": "Contents",
   "toc_cell": false,
   "toc_position": {},
   "toc_section_display": true,
   "toc_window_display": true
  },
  "version": 3
 },
 "nbformat": 4,
 "nbformat_minor": 2
}
